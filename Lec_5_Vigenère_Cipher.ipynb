{
  "nbformat": 4,
  "nbformat_minor": 0,
  "metadata": {
    "colab": {
      "provenance": [],
      "include_colab_link": true
    },
    "kernelspec": {
      "name": "python3",
      "display_name": "Python 3"
    },
    "language_info": {
      "name": "python"
    }
  },
  "cells": [
    {
      "cell_type": "markdown",
      "metadata": {
        "id": "view-in-github",
        "colab_type": "text"
      },
      "source": [
        "<a href=\"https://colab.research.google.com/github/mborkhat/MBA-TECH-DATA-SCIENCE/blob/main/Lec_5_Vigen%C3%A8re_Cipher.ipynb\" target=\"_parent\"><img src=\"https://colab.research.google.com/assets/colab-badge.svg\" alt=\"Open In Colab\"/></a>"
      ]
    },
    {
      "cell_type": "markdown",
      "source": [
        "# Vigenère Cipher\n"
      ],
      "metadata": {
        "id": "k9SDub7bh0j6"
      }
    },
    {
      "cell_type": "markdown",
      "source": [
        "Vigenere Cipher is a method of encrypting alphabetic text. It uses a simple form of polyalphabetic substitution. A polyalphabetic cipher is any cipher based on substitution, using multiple substitution alphabets. The encryption of the original text is done using the Vigenère square or Vigenère table.\n",
        "\n",
        "The table consists of the alphabets written out 26 times in different rows, each alphabet shifted cyclically to the left compared to the previous alphabet, corresponding to the 26 possible Caesar Ciphers.\n",
        "At different points in the encryption process, the cipher uses a different alphabet from one of the rows.\n",
        "The alphabet used at each point depends on a repeating keyword."
      ],
      "metadata": {
        "id": "SFJYjQTHhyYP"
      }
    },
    {
      "cell_type": "markdown",
      "source": [
        "![image.png](data:image/png;base64,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)"
      ],
      "metadata": {
        "id": "Rjd2aEolh3M2"
      }
    },
    {
      "cell_type": "markdown",
      "source": [
        "![image.png](data:image/png;base64,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)"
      ],
      "metadata": {
        "id": "9ovlauE6h8_s"
      }
    },
    {
      "cell_type": "code",
      "source": [
        "string = \"GEEKSFORGEEKS\"\n",
        "keyword = \"SHARAN\""
      ],
      "metadata": {
        "id": "FzYR4y89h3db"
      },
      "execution_count": null,
      "outputs": []
    },
    {
      "cell_type": "code",
      "source": [
        "def generateKey(string, key):\n",
        "    key = list(key)\n",
        "    if len(string) == len(key):\n",
        "        return(key)\n",
        "    else:\n",
        "        for i in range(len(string) - len(key)):\n",
        "            key.append(key[i % len(key)])\n",
        "    return(\"\" . join(key))"
      ],
      "metadata": {
        "id": "BLFsLMKViASx"
      },
      "execution_count": null,
      "outputs": []
    },
    {
      "cell_type": "code",
      "source": [
        "def encrypt_cipherText(string, key):\n",
        "    cipher_text = []\n",
        "    for i in range(len(string)):\n",
        "        x = ((ord(string[i]) + ord(key[i])) % 26)+ord('A')\n",
        "        cipher_text.append(chr(x))\n",
        "    return(\"\" . join(cipher_text))"
      ],
      "metadata": {
        "id": "Cc69zd8xiCHQ"
      },
      "execution_count": null,
      "outputs": []
    },
    {
      "cell_type": "code",
      "source": [
        "key = generateKey(string, keyword)"
      ],
      "metadata": {
        "id": "gm_H-VZqiCAL"
      },
      "execution_count": null,
      "outputs": []
    },
    {
      "cell_type": "code",
      "source": [
        "print(\"Original Message\",string)\n",
        "print(\"Keyword:\", keyword)\n",
        "cipher_text = encrypt_cipherText(string,key)\n",
        "print(\"Ciphertext :\", cipher_text)"
      ],
      "metadata": {
        "id": "YSnBvRRLiF7O",
        "colab": {
          "base_uri": "https://localhost:8080/"
        },
        "outputId": "bb05968f-155a-4afc-8628-1d0e67481c00"
      },
      "execution_count": null,
      "outputs": [
        {
          "output_type": "stream",
          "name": "stdout",
          "text": [
            "Orignal Message GEEKSFORGEEKS\n",
            "keyword SHARAN\n",
            "Ciphertext : YLEBSSGYGVEXK\n"
          ]
        }
      ]
    },
    {
      "cell_type": "code",
      "source": [
        "def decrypt_originalText(cipher_text, key):\n",
        "    orig_text = []\n",
        "    for i in range(len(cipher_text)):\n",
        "        x =( (ord(cipher_text[i]) - ord(key[i])) % 26 ) +ord('A')\n",
        "        orig_text.append(chr(x))\n",
        "    return(\"\" . join(orig_text))"
      ],
      "metadata": {
        "id": "pK8JVoyOiFwI"
      },
      "execution_count": null,
      "outputs": []
    },
    {
      "cell_type": "code",
      "source": [
        "key = generateKey(string, keyword)"
      ],
      "metadata": {
        "id": "a-dDt0KDiJKm"
      },
      "execution_count": null,
      "outputs": []
    },
    {
      "cell_type": "code",
      "source": [
        "cipher_text = encrypt_cipherText(string,key)"
      ],
      "metadata": {
        "id": "NTKFtbsZiJCH"
      },
      "execution_count": null,
      "outputs": []
    },
    {
      "cell_type": "code",
      "source": [
        " print(\"Ciphertext :\", cipher_text)\n",
        "print(\"Original/Decrypted Text :\",decrypt_originalText(cipher_text, key))"
      ],
      "metadata": {
        "id": "lhvn07qfiLYG",
        "colab": {
          "base_uri": "https://localhost:8080/"
        },
        "outputId": "b06b7108-6fae-403f-f6f6-4bb114d11d0d"
      },
      "execution_count": null,
      "outputs": [
        {
          "output_type": "stream",
          "name": "stdout",
          "text": [
            "Ciphertext : SECEJROPAVQKQ\n",
            "Original/Decrypted Text : GEEKSFORGEEKS\n"
          ]
        }
      ]
    },
    {
      "cell_type": "markdown",
      "source": [
        "Rough"
      ],
      "metadata": {
        "id": "TBjXU6heiNzJ"
      }
    },
    {
      "cell_type": "code",
      "source": [
        "key = list(keyword)\n",
        "if len(string) == len(key):\n",
        "  print(key)\n",
        "else:\n",
        "  for i in range(len(string) - len(key)):\n",
        "    print(i % len(key))"
      ],
      "metadata": {
        "id": "QOOx6cFWiNRu",
        "colab": {
          "base_uri": "https://localhost:8080/"
        },
        "outputId": "f9f468e3-139b-4110-cb85-87c635b58a2b"
      },
      "execution_count": null,
      "outputs": [
        {
          "output_type": "stream",
          "name": "stdout",
          "text": [
            "0\n",
            "1\n",
            "2\n",
            "3\n",
            "4\n",
            "0\n",
            "1\n",
            "2\n"
          ]
        }
      ]
    }
  ]
}