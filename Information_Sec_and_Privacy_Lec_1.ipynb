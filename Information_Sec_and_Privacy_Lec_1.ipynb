{
  "nbformat": 4,
  "nbformat_minor": 0,
  "metadata": {
    "colab": {
      "name": "Information Sec and Privacy: Lec 1.ipynb",
      "provenance": [],
      "authorship_tag": "ABX9TyMFqjqoruZ/Stknz58sC/Fq",
      "include_colab_link": true
    },
    "kernelspec": {
      "name": "python3",
      "display_name": "Python 3"
    },
    "language_info": {
      "name": "python"
    }
  },
  "cells": [
    {
      "cell_type": "markdown",
      "metadata": {
        "id": "view-in-github",
        "colab_type": "text"
      },
      "source": [
        "<a href=\"https://colab.research.google.com/github/mborkhat/MBA-TECH-/blob/main/Information_Sec_and_Privacy_Lec_1.ipynb\" target=\"_parent\"><img src=\"https://colab.research.google.com/assets/colab-badge.svg\" alt=\"Open In Colab\"/></a>"
      ]
    },
    {
      "cell_type": "markdown",
      "source": [
        "# **About Me**\n",
        "https://www.linkedin.com/in/mayur-borkhatariya \n",
        "\n"
      ],
      "metadata": {
        "id": "XSZDZg_IKEA1"
      }
    },
    {
      "cell_type": "markdown",
      "source": [
        "# **CONCEPTS**\n",
        "\n",
        "\n",
        "1.  Basics\n",
        "    1. Variables\n",
        "    2. if else\n",
        "    3. Loop\n",
        "    4. Functions\n",
        "\n",
        "2.  CAESAR  CIPHER ENCRYPTION\n",
        "    1. Logic\n",
        "    2. Encryption\n",
        "    3. Decryption\n",
        "\n",
        "\n"
      ],
      "metadata": {
        "id": "W9JNz0_qJ4v0"
      }
    },
    {
      "cell_type": "markdown",
      "source": [
        "Variables\n",
        "\n",
        "Variables are names bounded to objects"
      ],
      "metadata": {
        "id": "QGioHV3eL9y4"
      }
    },
    {
      "cell_type": "code",
      "execution_count": null,
      "metadata": {
        "id": "267DDLHtJv7_",
        "colab": {
          "base_uri": "https://localhost:8080/"
        },
        "outputId": "fb1f4918-b4b9-4acd-fcb7-e965f70ce82b"
      },
      "outputs": [
        {
          "output_type": "stream",
          "name": "stdout",
          "text": [
            "5\n"
          ]
        }
      ],
      "source": [
        "a=5\n",
        "b=6\n",
        "text=\"MBA TECH BATCH\"\n",
        "A=6\n",
        "#CANNOT START WITH NUMBER\n",
        "#CASE SENSTIVE\n",
        "print(a)"
      ]
    },
    {
      "cell_type": "markdown",
      "source": [
        "CONDITIONAL STATEMENTS : IF ELIF"
      ],
      "metadata": {
        "id": "EFFjyfMLTM6e"
      }
    },
    {
      "cell_type": "code",
      "source": [
        "#if else\n",
        "# Python supports the usual logical conditions from mathematics:\n",
        "\n",
        "# Equals: a == b\n",
        "# Not Equals: a != b\n",
        "# Less than: a < b\n",
        "# Less than or equal to: a <= b\n",
        "# Greater than: a > b\n",
        "# Greater than or equal to: a >= b"
      ],
      "metadata": {
        "id": "WcJ2ykFMQ-UN"
      },
      "execution_count": null,
      "outputs": []
    },
    {
      "cell_type": "code",
      "source": [
        "ERROR INDENtATION IS IMPORTANT\n",
        "a = 33\n",
        "b = 200\n",
        "if b > a:\n",
        "print(\"b is greater than a\") # you will get an error"
      ],
      "metadata": {
        "id": "PtO9CQ_bUf2y",
        "colab": {
          "base_uri": "https://localhost:8080/",
          "height": 132
        },
        "outputId": "4b59eb8d-4cf5-4ede-85de-0c2189fdcbfb"
      },
      "execution_count": null,
      "outputs": [
        {
          "output_type": "error",
          "ename": "SyntaxError",
          "evalue": "ignored",
          "traceback": [
            "\u001b[0;36m  File \u001b[0;32m\"<ipython-input-7-263bd285dd5f>\"\u001b[0;36m, line \u001b[0;32m1\u001b[0m\n\u001b[0;31m    ERROR INDENtATION IS IMPORTANT\u001b[0m\n\u001b[0m                    ^\u001b[0m\n\u001b[0;31mSyntaxError\u001b[0m\u001b[0;31m:\u001b[0m invalid syntax\n"
          ]
        }
      ]
    },
    {
      "cell_type": "code",
      "source": [
        "a = 33\n",
        "b = 200\n",
        "if b > a:\n",
        "  print(\"b is greater than a\")"
      ],
      "metadata": {
        "id": "NyLg95U6RAlw",
        "colab": {
          "base_uri": "https://localhost:8080/"
        },
        "outputId": "fda2608a-f907-44b7-8a9b-45484a50d3d0"
      },
      "execution_count": null,
      "outputs": [
        {
          "output_type": "stream",
          "name": "stdout",
          "text": [
            "b is greater than a\n"
          ]
        }
      ]
    },
    {
      "cell_type": "code",
      "source": [
        "'''In this program,  we check if the number is positive or negative or zero and display an appropriate message'''\n",
        "\n",
        "num = 0\n",
        "\n",
        "if num > 0:\n",
        "    print(\"Positive number\")\n",
        "elif num == 0:\n",
        "    print(\"Zero\")\n",
        "else:\n",
        "    print(\"Negative number\")"
      ],
      "metadata": {
        "colab": {
          "base_uri": "https://localhost:8080/"
        },
        "id": "ts78RvEER2O1",
        "outputId": "3864bd88-8e7a-4489-fbbc-417f66471a29"
      },
      "execution_count": null,
      "outputs": [
        {
          "output_type": "stream",
          "name": "stdout",
          "text": [
            "Zero\n"
          ]
        }
      ]
    },
    {
      "cell_type": "markdown",
      "source": [
        "Loop : To Iterate over the sequence\n"
      ],
      "metadata": {
        "id": "DiATH-PKMBci"
      }
    },
    {
      "cell_type": "code",
      "source": [
        "print(\"Hi, How are you?\")\n",
        "print(\"Hi, How are you?\")\n",
        "print(\"Hi, How are you?\")\n",
        "print(\"Hi, How are you?\")\n",
        "print(\"Hi, How are you?\")"
      ],
      "metadata": {
        "colab": {
          "base_uri": "https://localhost:8080/"
        },
        "id": "BLX0K6ZgJ0bA",
        "outputId": "a3df7dcb-9225-4c16-897f-10651a0d81c5"
      },
      "execution_count": null,
      "outputs": [
        {
          "output_type": "stream",
          "name": "stdout",
          "text": [
            "Hi, How are you?\n",
            "Hi, How are you?\n",
            "Hi, How are you?\n",
            "Hi, How are you?\n",
            "Hi, How are you?\n"
          ]
        }
      ]
    },
    {
      "cell_type": "code",
      "source": [
        "for i in range(0,5):\n",
        "  print(i)\n",
        "  print(\"Hi, How are you?\")"
      ],
      "metadata": {
        "colab": {
          "base_uri": "https://localhost:8080/"
        },
        "id": "TLl4WQHeMJAn",
        "outputId": "11219fb6-e79b-4954-cc3b-ec3b9214127e"
      },
      "execution_count": null,
      "outputs": [
        {
          "output_type": "stream",
          "name": "stdout",
          "text": [
            "0\n",
            "Hi, How are you?\n",
            "1\n",
            "Hi, How are you?\n",
            "2\n",
            "Hi, How are you?\n",
            "3\n",
            "Hi, How are you?\n",
            "4\n",
            "Hi, How are you?\n"
          ]
        }
      ]
    },
    {
      "cell_type": "markdown",
      "source": [
        "Understanding range function"
      ],
      "metadata": {
        "id": "C1FA0JNXTU4w"
      }
    },
    {
      "cell_type": "code",
      "source": [
        "# range(include, Exclude)\n",
        "for i in range(0,5):\n",
        "  print(i)"
      ],
      "metadata": {
        "colab": {
          "base_uri": "https://localhost:8080/"
        },
        "id": "5hHvBm5TMP_o",
        "outputId": "38873875-4c16-4f57-c1db-e3f417b0c756"
      },
      "execution_count": null,
      "outputs": [
        {
          "output_type": "stream",
          "name": "stdout",
          "text": [
            "0\n",
            "1\n",
            "2\n",
            "3\n",
            "4\n"
          ]
        }
      ]
    },
    {
      "cell_type": "code",
      "source": [
        "text=\"MBA TECH\"\n",
        "print(len(text))\n",
        "for i in range(len(text)):\n",
        "\n",
        "\n",
        "        print(text[i])"
      ],
      "metadata": {
        "colab": {
          "base_uri": "https://localhost:8080/"
        },
        "id": "JTvvdH0yNljs",
        "outputId": "b6ec9aa1-a48c-4b64-8d3c-25d8f5fcda62"
      },
      "execution_count": null,
      "outputs": [
        {
          "output_type": "stream",
          "name": "stdout",
          "text": [
            "8\n",
            "M\n",
            "B\n",
            "A\n",
            " \n",
            "T\n",
            "E\n",
            "C\n",
            "H\n"
          ]
        }
      ]
    },
    {
      "cell_type": "markdown",
      "source": [
        "Function"
      ],
      "metadata": {
        "id": "C0RdfjZQV4gf"
      }
    },
    {
      "cell_type": "code",
      "source": [
        "#CODE for Adding two numbers\n",
        "a=5\n",
        "b=10\n",
        "sum=a+b\n",
        "print(\"SUM OF TWO NUMBERS IS :\",sum)"
      ],
      "metadata": {
        "colab": {
          "base_uri": "https://localhost:8080/"
        },
        "id": "ik5mFKcBWVnE",
        "outputId": "541f4486-8e61-4f40-cc32-98d08baf17d3"
      },
      "execution_count": null,
      "outputs": [
        {
          "output_type": "stream",
          "name": "stdout",
          "text": [
            "SUM OF TWO NUMBERS IS : 15\n"
          ]
        }
      ]
    },
    {
      "cell_type": "code",
      "source": [
        "# Function definition is here\n",
        "def sum( arg1, arg2 ):\n",
        "   # Add both the parameters and return them.\"\n",
        "   total = arg1 + arg2\n",
        "   print (\"Inside the function : \", total)\n",
        "   return total\n",
        "\n",
        "# Now you can call sum function\n",
        "total = sum( 10, 5 )\n",
        "print (\"Outside the function : \", total )"
      ],
      "metadata": {
        "colab": {
          "base_uri": "https://localhost:8080/"
        },
        "id": "lJDzN0srQely",
        "outputId": "7cf0c827-cf1b-4a0d-e743-b592d83879b1"
      },
      "execution_count": null,
      "outputs": [
        {
          "output_type": "stream",
          "name": "stdout",
          "text": [
            "Inside the function :  15\n",
            "Outside the function :  15\n"
          ]
        }
      ]
    },
    {
      "cell_type": "code",
      "source": [
        "# #VOWEL ExAMPLE\n",
        "# def vowel_count(s):\n",
        "# \t\"\"\"Counts the number of vowels in s and returns the same\n",
        "# \tIgnores case of letters\"\"\"\n",
        "# \tvowels = \"aeiouAEIOU\"\n",
        "# \tvc = 0\n",
        "# \tfor ch in s:\n",
        "# \t\tif ch in vowels:\n",
        "# \t\t\tvc = vc+ 1\n",
        "# \treturn vc\n",
        "# print(vowel_count(\"This is the best MBA TECH Batch\"))"
      ],
      "metadata": {
        "colab": {
          "base_uri": "https://localhost:8080/"
        },
        "id": "1RU5-cPmWREb",
        "outputId": "9c4d0307-831b-415d-8d58-68a1581860b4"
      },
      "execution_count": null,
      "outputs": [
        {
          "output_type": "stream",
          "name": "stdout",
          "text": [
            "7\n"
          ]
        }
      ]
    },
    {
      "cell_type": "code",
      "source": [
        "# HW\n",
        "# A simple Python function to check \n",
        "# whether x is even or odd"
      ],
      "metadata": {
        "id": "8J4N2IYpXGSH"
      },
      "execution_count": null,
      "outputs": []
    },
    {
      "cell_type": "markdown",
      "source": [
        "# SUBSTITUTION Decryption\n",
        "The Caesar Cipher technique is one of the earliest and simplest methods of encryption technique. It’s simply a type of substitution cipher, i.e., each letter of a given text is replaced by a letter with a fixed number of positions down the alphabet.\n",
        "\n",
        "For example with a shift of 3, A would be replaced by D, B would become E, and so on.\n",
        "\n",
        "![caesar_algo.png](data:image/png;base64,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)\n",
        "\n",
        "\n"
      ],
      "metadata": {
        "id": "wvA_6NXWcP_L"
      }
    },
    {
      "cell_type": "code",
      "source": [
        "# Text : ABC\n",
        "# Shift: 3\n",
        "# Cipher: DEF"
      ],
      "metadata": {
        "id": "omO97idHXdo3"
      },
      "execution_count": null,
      "outputs": []
    },
    {
      "cell_type": "markdown",
      "source": [
        "**Algorithm for substitution Cipher:**\n",
        "\n",
        "**Input:** \n",
        "\n",
        "1. A String of lower case letters, called Text.\n",
        "2. An Integer between 0-25 denoting the required shift.\n",
        "\n",
        "**Procedure:**\n",
        "\n",
        "1. Traverse the given text one character at a time .\n",
        "2. For each character, transform the given character as per the rule, depending on whether we’re encrypting or decrypting the text.\n",
        "Return the new string generated."
      ],
      "metadata": {
        "id": "CzVL7K4odyxz"
      }
    },
    {
      "cell_type": "code",
      "source": [
        "#STEP 1: Take Inputs\n",
        "text=str(input(\"enter the word:\"))\n",
        "shift=int(input(\"Enter the key: \"))\n",
        "result=''"
      ],
      "metadata": {
        "colab": {
          "base_uri": "https://localhost:8080/"
        },
        "id": "Cm2O8avXll5E",
        "outputId": "76fc368c-2136-41ec-e2a6-dd563b3d9689"
      },
      "execution_count": null,
      "outputs": [
        {
          "name": "stdout",
          "output_type": "stream",
          "text": [
            "enter the word:abc\n",
            "Enter the key: 3\n"
          ]
        }
      ]
    },
    {
      "cell_type": "code",
      "source": [
        "#STEP 2:  Traverse\n",
        "for i in range(len(text)):\n",
        "  char = text[i]\n",
        "  print(char)"
      ],
      "metadata": {
        "colab": {
          "base_uri": "https://localhost:8080/"
        },
        "id": "ZsacQjV1lti9",
        "outputId": "7aa51008-6436-4399-e6f9-0d460f559e06"
      },
      "execution_count": null,
      "outputs": [
        {
          "output_type": "stream",
          "name": "stdout",
          "text": [
            "a\n",
            "b\n",
            "c\n"
          ]
        }
      ]
    },
    {
      "cell_type": "code",
      "source": [
        "#STEP 3 FOR all upper case shift as per input\n",
        "text = \"MAYUR\"\n",
        "shift = 3\n",
        "result=''\n",
        "\n",
        "for i in range(len(text)):\n",
        "  char = text[i]\n",
        "  print(\"Orignal char\",char)\n",
        "  result = result + chr((ord(char) + shift-65) % 26 + 65)\n",
        "  print(\"Corresponding cipher\",result[i])\n",
        "  print(\"-------------------------\")\n",
        "print(\"Final Result\",result)"
      ],
      "metadata": {
        "colab": {
          "base_uri": "https://localhost:8080/"
        },
        "id": "hnAT30gplz0q",
        "outputId": "1d77f6ad-44c0-4f3a-8205-3440a251fa06"
      },
      "execution_count": null,
      "outputs": [
        {
          "output_type": "stream",
          "name": "stdout",
          "text": [
            "Orignal char M\n",
            "Corresponding cipher P\n",
            "-------------------------\n",
            "Orignal char A\n",
            "Corresponding cipher D\n",
            "-------------------------\n",
            "Orignal char Y\n",
            "Corresponding cipher B\n",
            "-------------------------\n",
            "Orignal char U\n",
            "Corresponding cipher X\n",
            "-------------------------\n",
            "Orignal char R\n",
            "Corresponding cipher U\n",
            "-------------------------\n",
            "Final Result PDBXU\n"
          ]
        }
      ]
    },
    {
      "cell_type": "code",
      "source": [
        "# inbuilt function return an integer representing the Unicode code\n",
        "value = (ord(\"b\"))\n",
        "\n",
        "# prints the unicode value\n",
        "print (value)\n",
        "\n",
        "# print the character\n",
        "print(chr(value))\n",
        "\n",
        "#A-Z : 65 to 90\n",
        "#a-z : 97 to 122"
      ],
      "metadata": {
        "colab": {
          "base_uri": "https://localhost:8080/"
        },
        "id": "Br8bkwBlm8C4",
        "outputId": "acdc3e56-0d36-4bbb-e23d-859616373c05"
      },
      "execution_count": null,
      "outputs": [
        {
          "output_type": "stream",
          "name": "stdout",
          "text": [
            "98\n",
            "b\n"
          ]
        }
      ]
    },
    {
      "cell_type": "code",
      "source": [
        "value1 = (ord(\"A\"))\n",
        "print(\"Unicode code value of given char is \",value1)\n",
        "\n",
        "print(\"---------------------------------------\")\n",
        "\n",
        "value2 = (ord(\"A\")+3)\n",
        "print(\"Unicode with shift of 3 \",value2)\n",
        "\n",
        "print(\"---------------------------------------\")\n",
        "\n",
        "value2_1 = (ord(\"A\")+3)\n",
        "print(\"Char with shift of 3 \",chr(value2_1))\n",
        "\n",
        "print(\"---------------------------------------\")\n",
        "\n",
        "value3 = (ord(\"A\")+3-65)\n",
        "print(\"Convert to base of capital letter \",value3)\n",
        "\n",
        "print(\"---------------------------------------\")\n",
        "\n",
        "value4 = (ord(\"A\")+3-65)%26\n",
        "print(\"Taking Mod with 26 \",value4)\n",
        "\n",
        "print(\"---------------------------------------\")\n",
        "\n",
        "\n",
        "value5 = (ord(\"A\")+3-65)%26+65\n",
        "print(\"Unicode code value of cipher char is \",value5)\n",
        "\n",
        "\n",
        "print(\"---------------------------------------\")\n",
        "chr(value5)\n",
        "\n",
        "\n",
        "#breaking\n",
        "#(ord(\"A\")+3-65) makes base 0\n",
        "#"
      ],
      "metadata": {
        "colab": {
          "base_uri": "https://localhost:8080/",
          "height": 246
        },
        "id": "_tm1vRbwd947",
        "outputId": "580b327b-dc12-459d-c4c9-ca415eec245a"
      },
      "execution_count": null,
      "outputs": [
        {
          "output_type": "stream",
          "name": "stdout",
          "text": [
            "Unicode code value of given char is  65\n",
            "---------------------------------------\n",
            "Unicode with shift of 3  68\n",
            "---------------------------------------\n",
            "Char with shift of 3  D\n",
            "---------------------------------------\n",
            "Convert to base of capital letter  3\n",
            "---------------------------------------\n",
            "Taking Mod with 26  3\n",
            "---------------------------------------\n",
            "Unicode code value of cipher char is  68\n",
            "---------------------------------------\n"
          ]
        },
        {
          "output_type": "execute_result",
          "data": {
            "text/plain": [
              "'D'"
            ],
            "application/vnd.google.colaboratory.intrinsic+json": {
              "type": "string"
            }
          },
          "metadata": {},
          "execution_count": 36
        }
      ]
    },
    {
      "cell_type": "code",
      "source": [
        "#STEP 5 FOR all lower case shift as per input\n",
        "text = \"abc\"\n",
        "shift = 4\n",
        "result=''\n",
        "for i in range(len(text)):\n",
        "  char = text[i]\n",
        "  result = result + chr((ord(char) + shift-97) % 26 + 97)\n",
        "print(result)"
      ],
      "metadata": {
        "colab": {
          "base_uri": "https://localhost:8080/"
        },
        "id": "iDoBAZ4uoMIU",
        "outputId": "e595f037-376c-4339-fbd3-2237c769df26"
      },
      "execution_count": null,
      "outputs": [
        {
          "output_type": "stream",
          "name": "stdout",
          "text": [
            "efg\n"
          ]
        }
      ]
    },
    {
      "cell_type": "code",
      "source": [
        "#INPUTS\n",
        "text = \"ABC\"\n",
        "shift = 3\n",
        "\n",
        "result=''\n",
        "# traverse text\n",
        "for i in range(len(text)):\n",
        "  char = text[i]\n",
        "\n",
        "  # Encrypt uppercase characters\n",
        "  if (char.isupper()):\n",
        "    result += chr((ord(char) + shift-65) % 26 + 65)\n",
        "    \n",
        "  # Encrypt lowercase characters\n",
        "  else:\n",
        "    result += chr((ord(char) + shift - 97) % 26 + 97)\n",
        "    \n",
        "\n",
        "print (\"Text : \" + text)\n",
        "print (\"Shift : \" + str(shift))\n",
        "print(\"Cipher : \", result)\n"
      ],
      "metadata": {
        "colab": {
          "base_uri": "https://localhost:8080/"
        },
        "id": "sVhM6PH8eOpt",
        "outputId": "330f2aa3-a3cc-443b-c225-6d7b4e3baa25"
      },
      "execution_count": null,
      "outputs": [
        {
          "output_type": "stream",
          "name": "stdout",
          "text": [
            "Text : ABC\n",
            "Shift : 3\n",
            "Cipher :  DEF\n"
          ]
        }
      ]
    },
    {
      "cell_type": "markdown",
      "source": [
        "# Final ENCRYPTED CAESAR TECHNIQUE"
      ],
      "metadata": {
        "id": "FnGZKaw6pTLX"
      }
    },
    {
      "cell_type": "code",
      "source": [
        "#A python program to illustrate Caesar Cipher Technique\n",
        "def encrypt(text,s):\n",
        "  result = \"\"\n",
        "  # traverse text\n",
        "  s=s\n",
        "  print(s)\n",
        "  for i in range(len(text)):\n",
        "    char = text[i]\n",
        "\n",
        "    # Encrypt uppercase characters\n",
        "    if (char.isupper()):\n",
        "      result += chr((ord(char) + s-65) % 26 + 65)\n",
        "\n",
        "    # Encrypt lowercase characters\n",
        "    else:\n",
        "      result += chr((ord(char) + s - 97) % 26 + 97)\n",
        "    \n",
        "  return result\n",
        "\n",
        "#check the above function\n",
        "text=str(input(\"enter the word:\"))\n",
        "shift=int(input(\"Enter the key: \"))\n",
        "# print (\"Text : \" + text)\n",
        "# print (\"Shift : \" + str(s))\n",
        "print (\"Cipher: \" + encrypt(text,shift))"
      ],
      "metadata": {
        "colab": {
          "base_uri": "https://localhost:8080/"
        },
        "id": "kAyZ74FEdelQ",
        "outputId": "48ae02c4-eb0c-47af-964a-6734a6f82438"
      },
      "execution_count": null,
      "outputs": [
        {
          "output_type": "stream",
          "name": "stdout",
          "text": [
            "enter the word:ABC\n",
            "Enter the key: 3\n",
            "3\n",
            "Cipher: DEF\n"
          ]
        }
      ]
    },
    {
      "cell_type": "markdown",
      "source": [
        "# DECRYPTION"
      ],
      "metadata": {
        "id": "jXiZSNbRaxWk"
      }
    },
    {
      "cell_type": "code",
      "source": [
        "def decrypt(text,s):\n",
        "\n",
        "\n",
        "  # Cipher(n) = De-cipher(26-n)\n",
        "  s=26-s \n",
        "  print(s)    \n",
        "  result=\"\" \n",
        "  for i in range(len(text)):\n",
        "      char=text[i]\n",
        "      if(char.isupper()):  \n",
        "          result=result+chr((ord(char)+s-65)%26+65)\n",
        "      else:\n",
        "          result=result+chr((ord(char)+s-97)%26+97)\n",
        "  return result\n",
        "\n",
        "\n",
        "word=str(input(\"enter the word:\"))\n",
        "d=int(input(\"Enter the key: \"))\n",
        "\n",
        "print(\"Encoded word in Caeser cipher is: \",decrypt(word,d))\n"
      ],
      "metadata": {
        "colab": {
          "base_uri": "https://localhost:8080/"
        },
        "id": "HyUYjiiWpa0W",
        "outputId": "0b38efb1-6626-4002-e533-368caa49db1d"
      },
      "execution_count": null,
      "outputs": [
        {
          "output_type": "stream",
          "name": "stdout",
          "text": [
            "enter the word:DEF\n",
            "Enter the key: 3\n",
            "23\n",
            "Encoded word in Caeser cipher is:  ABC\n"
          ]
        }
      ]
    },
    {
      "cell_type": "markdown",
      "source": [
        "# NOTE : SPECIAL CASE WHERE KEY/Shift = 3 is CAESAR ALGOTITHM"
      ],
      "metadata": {
        "id": "Gu2XimsFbDnC"
      }
    },
    {
      "cell_type": "code",
      "source": [
        ""
      ],
      "metadata": {
        "id": "wptx_c-JlC-u"
      },
      "execution_count": null,
      "outputs": []
    }
  ]
}